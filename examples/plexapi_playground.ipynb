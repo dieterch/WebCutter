{
 "cells": [
  {
   "cell_type": "code",
   "execution_count": 9,
   "metadata": {},
   "outputs": [
    {
     "name": "stdout",
     "output_type": "stream",
     "text": [
      "/root/prog/python/WebCutter\n"
     ]
    }
   ],
   "source": [
    "%cd ..\n",
    "from webcutter.dplex import PlexInterface\n",
    "from webcutter.dcut import CutterInterface\n",
    "\n",
    "from simplemenu.dmenu import CutterMenu, Menu, Repeat\n",
    "from pprint import pprint as pp\n",
    "import time\n",
    "import sys\n",
    "\n",
    "fileserver = '192.168.15.10'\n",
    "baseurl = 'http://192.168.15.10:32400'\n",
    "token = '7YgcyPLqGVM-PVxq2QVo'\n",
    "\n",
    "plex = PlexInterface(baseurl,token)\n",
    "cutter = CutterInterface(fileserver)"
   ]
  },
  {
   "cell_type": "code",
   "execution_count": 11,
   "metadata": {},
   "outputs": [],
   "source": [
    "movies = plex.server.library.section('Plex Recordings')\n",
    "movieslist = [v.title for v in sorted(movies.all(), key=lambda x: getattr(x,'addedAt'), reverse=True)]\n",
    "movieslist;"
   ]
  },
  {
   "cell_type": "code",
   "execution_count": 12,
   "metadata": {},
   "outputs": [
    {
     "data": {
      "text/plain": [
       "'https://app.plex.tv/desktop/#!/media/0264dd5f08e0ba6dbaf4698b8371d333eccc63b0/com.plexapp.plugins.library?key=%2Fhubs&pageType=hub'"
      ]
     },
     "execution_count": 12,
     "metadata": {},
     "output_type": "execute_result"
    }
   ],
   "source": [
    "plex.server.getWebURL()"
   ]
  },
  {
   "cell_type": "code",
   "execution_count": 13,
   "metadata": {},
   "outputs": [
    {
     "data": {
      "text/plain": [
       "'https://app.plex.tv/desktop/#!/media/0264dd5f08e0ba6dbaf4698b8371d333eccc63b0/com.plexapp.plugins.library?source=1'"
      ]
     },
     "execution_count": 13,
     "metadata": {},
     "output_type": "execute_result"
    }
   ],
   "source": [
    "movies.getWebURL()"
   ]
  },
  {
   "cell_type": "code",
   "execution_count": 14,
   "metadata": {},
   "outputs": [
    {
     "data": {
      "text/plain": [
       "[<MovieSection:1:Plex-Recordings>,\n",
       " <MovieSection:6:VDR-Recordings>,\n",
       " <MovieSection:2:VU+-Recordings>,\n",
       " <ShowSection:7:Serien>,\n",
       " <MusicSection:8:Musik>,\n",
       " <MovieSection:9:Andere-Videos>]"
      ]
     },
     "execution_count": 14,
     "metadata": {},
     "output_type": "execute_result"
    }
   ],
   "source": [
    "plex.server.library.sections()\n"
   ]
  },
  {
   "cell_type": "code",
   "execution_count": 15,
   "metadata": {},
   "outputs": [
    {
     "name": "stdout",
     "output_type": "stream",
     "text": [
      "<MovieSection:1:Plex-Recordings>\n",
      "<MovieSection:2:VU+-Recordings>\n",
      "<MovieSection:6:VDR-Recordings>\n"
     ]
    }
   ],
   "source": [
    "for id in [1,2,6]:\n",
    "    print(plex.server.library.sectionByID(id))"
   ]
  },
  {
   "cell_type": "code",
   "execution_count": 16,
   "metadata": {},
   "outputs": [
    {
     "data": {
      "text/plain": [
       "[<Movie:20567:Alita:-Battle-Angel>,\n",
       " <Movie:20566:Im-Reich-der-Affen>,\n",
       " <Movie:20565:Mach's-noch-einmal,->,\n",
       " <Movie:20564:Mackie-Messer---Brec>,\n",
       " <Movie:20561:Verschwörung>,\n",
       " <Movie:20560:Mädchenjahre-einer-K>,\n",
       " <Movie:20559:Belleville-Cop>,\n",
       " <Movie:20558:Die-Teufelshand>,\n",
       " <Movie:20557:Harry-und-Sally>,\n",
       " <Movie:20555:Prêt-à-Porter>,\n",
       " <Movie:20554:Indiskret>,\n",
       " <Movie:20553:Und-wieder-48-Stunde>,\n",
       " <Movie:20552:Monty-Pythons-wunder>,\n",
       " <Movie:20551:Nur-48-Stunden>,\n",
       " <Movie:20550:Der-König-der-Löwen>,\n",
       " <Movie:20549:Ich-denke-oft-an-Pir>,\n",
       " <Movie:20548:Die-Fahrten-des-Odys>,\n",
       " <Movie:20547:Angélique:-Eine-groß>,\n",
       " <Movie:20546:Misfits---Nicht-gese>,\n",
       " <Movie:20505:Eine-Handvoll-Briefe>,\n",
       " <Movie:20504:Vorzimmer-zur-Hölle>,\n",
       " <Movie:20503:Doktor-Schiwago>,\n",
       " <Movie:20502:Sissi---Schicksalsja>,\n",
       " <Movie:20501:Drachenzähmen-leicht>,\n",
       " <Movie:20500:Tatsächlich...-Liebe>,\n",
       " <Movie:20498:Sissi,-die-junge-Kai>,\n",
       " <Movie:20497:The-Music-of-Silence>,\n",
       " <Movie:20496:Der-Nussknacker-und->,\n",
       " <Movie:20495:Sing>,\n",
       " <Movie:20494:Tschitti-Tschitti-Bä>,\n",
       " <Movie:20493:Die-Trapp-Familie:-E>,\n",
       " <Movie:20492:Sissi>,\n",
       " <Movie:20491:Terminator:-Dark-Fat>,\n",
       " <Movie:20489:The-Social-Network>,\n",
       " <Movie:20486:The-Core:-Der-innere>,\n",
       " <Movie:20484:Collateral>,\n",
       " <Movie:20423:Harold-and-Maude>,\n",
       " <Movie:20422:Ein-seltsames-Paar>,\n",
       " <Movie:20421:Zwingli---Der-Reform>,\n",
       " <Movie:20419:Asterix-und-das-Gehe>,\n",
       " <Movie:20416:Asterix-im-Land-der->,\n",
       " <Movie:20414:Werner---Gekotzt-wir>,\n",
       " <Movie:20413:Werner---Volles-Rooä>,\n",
       " <Movie:20412:Werner:-Beinhart>,\n",
       " <Movie:20397:Yesterday>,\n",
       " <Movie:20392:Diana>,\n",
       " <Movie:20391:Für-ein-paar-Dollar->,\n",
       " <Movie:20390:Für-eine-Handvoll-Do>,\n",
       " <Movie:20387:Aufbruch-zum-Mond>,\n",
       " <Movie:20379:The-Beatles:-Eight-D>]"
      ]
     },
     "execution_count": 16,
     "metadata": {},
     "output_type": "execute_result"
    }
   ],
   "source": [
    "movies.recentlyAdded()"
   ]
  },
  {
   "cell_type": "code",
   "execution_count": 19,
   "metadata": {},
   "outputs": [],
   "source": [
    "m = movies.fetchItem(20561)"
   ]
  },
  {
   "cell_type": "code",
   "execution_count": 21,
   "metadata": {},
   "outputs": [],
   "source": [
    "m.analyze()"
   ]
  },
  {
   "cell_type": "code",
   "execution_count": 10,
   "metadata": {},
   "outputs": [
    {
     "data": {
      "text/plain": [
       "[<Tag:1>, <Tag:6>, <Tag:2>, <Show:7:Serien>, <Artist:8:Musik>, <Tag:9>]"
      ]
     },
     "execution_count": 10,
     "metadata": {},
     "output_type": "execute_result"
    }
   ],
   "source": [
    "plex.server.fetchItems('/library/sections')"
   ]
  },
  {
   "cell_type": "code",
   "execution_count": 11,
   "metadata": {},
   "outputs": [
    {
     "data": {
      "text/plain": [
       "[<Movie:5313:Harry-Potter-und-der>,\n",
       " <Movie:5314:Harry-Potter-und-der>,\n",
       " <Movie:5315:Harry-Potter-und-der>,\n",
       " <Movie:5316:Harry-Potter-und-die>,\n",
       " <Movie:5318:Harry-Potter-und-die>,\n",
       " <Movie:20557:Harry-und-Sally>,\n",
       " <Movie:5151:Harry-und-Sally>,\n",
       " <Show:20033:CBS-Presents-Oprah-w>,\n",
       " <Album:11554:Harry-Potter-1>]"
      ]
     },
     "execution_count": 11,
     "metadata": {},
     "output_type": "execute_result"
    }
   ],
   "source": [
    "plex.server.fetchItems('/search?query=Harry')"
   ]
  },
  {
   "cell_type": "code",
   "execution_count": 12,
   "metadata": {},
   "outputs": [
    {
     "data": {
      "text/plain": [
       "[<Preferences:FriendlyName:ASUSTOR-Plex>,\n",
       " <Preferences:sendCrashReports:True>,\n",
       " <Preferences:CrashUploadRetries>,\n",
       " <Preferences:FSEventLibraryUpdate>,\n",
       " <Preferences:FSEventLibraryPartia>,\n",
       " <Preferences:watchMusicSections>,\n",
       " <Preferences:ScheduledLibraryUpda>,\n",
       " <Preferences:ScheduledLibraryUpda:3600>,\n",
       " <Preferences:autoEmptyTrash:True>,\n",
       " <Preferences:allowMediaDeletion:True>,\n",
       " <Preferences:allowMediaDeletionLa>,\n",
       " <Preferences:OnDeckWindow:16>,\n",
       " <Preferences:OnDeckLimit:40>,\n",
       " <Preferences:OnDeckIncludePremier:True>,\n",
       " <Preferences:SmartShuffleMusic:True>,\n",
       " <Preferences:MusicSeparateAlbumTy:enabled>,\n",
       " <Preferences:LibraryDefaultVisibi>,\n",
       " <Preferences:CinemaTrailersType:1>,\n",
       " <Preferences:CinemaTrailersFromLi:True>,\n",
       " <Preferences:CinemaTrailersFromTh>,\n",
       " <Preferences:CinemaTrailersFromBl>,\n",
       " <Preferences:CinemaTrailersPrerol>,\n",
       " <Preferences:iTunesSharingEnabled>,\n",
       " <Preferences:iTunesLibraryXmlPath>,\n",
       " <Preferences:disableCapabilityChe>,\n",
       " <Preferences:MachineIdentifier:72819ec4-1574-49f2-9>,\n",
       " <Preferences:AllowHighOutputBitra>,\n",
       " <Preferences:ConfigurationUrl:http://127.0.0.1:324>,\n",
       " <Preferences:AcceptedEULA:True>,\n",
       " <Preferences:LanguageInCloud:True>,\n",
       " <Preferences:ArticleStrings:the,das,der,a,an,el,>,\n",
       " <Preferences:TranscoderVideoResol:0x0>,\n",
       " <Preferences:TranscoderPhotoFileS:100>,\n",
       " <Preferences:EnableIPv6:True>,\n",
       " <Preferences:secureConnections:1>,\n",
       " <Preferences:customCertificatePat:/volume1/Plex/certif>,\n",
       " <Preferences:customCertificateKey>,\n",
       " <Preferences:customCertificateDom:home.seriousfamilybu>,\n",
       " <Preferences:PreferredNetworkInte>,\n",
       " <Preferences:DisableTLSv1_0>,\n",
       " <Preferences:allowedHttpOrigins>,\n",
       " <Preferences:GdmEnabled:True>,\n",
       " <Preferences:PublishServerOnPlexO:True>,\n",
       " <Preferences:PlexOnlineMail:dieter.chvatal@gmail>,\n",
       " <Preferences:PlexOnlineUrl:https://plex.tv>,\n",
       " <Preferences:PlexWebDesktopUrl:https://app.plex.tv/>,\n",
       " <Preferences:PlexWebAuthUrl:https://app.plex.tv/>,\n",
       " <Preferences:EnablePinAuth>,\n",
       " <Preferences:ManualPortMappingMod:True>,\n",
       " <Preferences:ManualPortMappingPor:32400>,\n",
       " <Preferences:LastAutomaticMappedP>,\n",
       " <Preferences:PushNotificationsEna>,\n",
       " <Preferences:TranscoderQuality>,\n",
       " <Preferences:SegmentedTranscoderT:20>,\n",
       " <Preferences:TranscoderTempDirect>,\n",
       " <Preferences:TranscoderDefaultDur:120>,\n",
       " <Preferences:TranscoderThrottleBu:60>,\n",
       " <Preferences:TranscoderPruneBuffe:300>,\n",
       " <Preferences:TranscoderLivePruneB:5400>,\n",
       " <Preferences:TranscoderH264Preset:veryfast>,\n",
       " <Preferences:TranscoderH264Backgr:veryfast>,\n",
       " <Preferences:TranscoderH264Option>,\n",
       " <Preferences:TranscoderH264Option>,\n",
       " <Preferences:TranscoderH264Minimu:16.0>,\n",
       " <Preferences:TranscoderLogLevel:error>,\n",
       " <Preferences:TranscoderToneMappin:True>,\n",
       " <Preferences:TranscoderCanOnlyRem>,\n",
       " <Preferences:HardwareAcceleratedC:True>,\n",
       " <Preferences:HardwareAcceleratedE:True>,\n",
       " <Preferences:SystemAudioCodecs:True>,\n",
       " <Preferences:HardwareDevicePath>,\n",
       " <Preferences:VaapiDriver>,\n",
       " <Preferences:VaapiKernelDriver>,\n",
       " <Preferences:PluginsLaunchTimeout:180>,\n",
       " <Preferences:DlnaEnabled>,\n",
       " <Preferences:DlnaPlatinumLoggingL:OFF>,\n",
       " <Preferences:DlnaClientPreference>,\n",
       " <Preferences:DlnaReportTimeline:True>,\n",
       " <Preferences:DlnaDefaultProtocolI:http-get:*:video/mpe>,\n",
       " <Preferences:DlnaDeviceDiscoveryI:60>,\n",
       " <Preferences:DlnaAnnouncementLeas:1800>,\n",
       " <Preferences:DlnaDescriptionIcons:png,jpeg;260x260,120>,\n",
       " <Preferences:SyncMyPlexLoginGCDef:14400>,\n",
       " <Preferences:SyncPagingItemsLimit:100>,\n",
       " <Preferences:BackgroundQueueIdleP>,\n",
       " <Preferences:ScannerLowPriority>,\n",
       " <Preferences:WanPerStreamMaxUploa:10000>,\n",
       " <Preferences:WanTotalMaxUploadRat:15000>,\n",
       " <Preferences:WanPerUserStreamCoun>,\n",
       " <Preferences:LanNetworksBandwidth>,\n",
       " <Preferences:MinutesAllowedPaused>,\n",
       " <Preferences:forceAutoAdjustQuali>,\n",
       " <Preferences:EnableABRDebugOverla>,\n",
       " <Preferences:ABRKeepOldTranscodes>,\n",
       " <Preferences:ForceABRDisabled>,\n",
       " <Preferences:TreatWanIpAsLocal:True>,\n",
       " <Preferences:RelayEnabled:True>,\n",
       " <Preferences:TranscodeCountLimit>,\n",
       " <Preferences:logDebug:True>,\n",
       " <Preferences:LogVerbose>,\n",
       " <Preferences:LogTokensForDebug>,\n",
       " <Preferences:LogMemoryUse>,\n",
       " <Preferences:LogSynchronous>,\n",
       " <Preferences:MinimumProgressTime:60000>,\n",
       " <Preferences:customConnections>,\n",
       " <Preferences:allowedNetworks>,\n",
       " <Preferences:WebHooksEnabled:True>,\n",
       " <Preferences:ButlerStartHour:2>,\n",
       " <Preferences:ButlerEndHour:5>,\n",
       " <Preferences:ButlerTaskBackupData:True>,\n",
       " <Preferences:ButlerDatabaseBackup:/volume1/Plex/Librar>,\n",
       " <Preferences:ButlerTaskOptimizeDa:True>,\n",
       " <Preferences:ButlerTaskCleanOldBu:True>,\n",
       " <Preferences:ButlerTaskCleanOldCa:True>,\n",
       " <Preferences:ButlerTaskRefreshLoc:True>,\n",
       " <Preferences:ButlerTaskRefreshLib>,\n",
       " <Preferences:ButlerTaskUpgradeMed:True>,\n",
       " <Preferences:ButlerTaskRefreshPer:True>,\n",
       " <Preferences:ButlerTaskDeepMediaA:True>,\n",
       " <Preferences:ButlerTaskGarbageCol:True>,\n",
       " <Preferences:ButlerTaskRefreshEpg:True>,\n",
       " <Preferences:ButlerTaskReverseGeo:True>,\n",
       " <Preferences:ButlerTaskGenerateAu:True>,\n",
       " <Preferences:ButlerUpdateChannel:16>,\n",
       " <Preferences:GenerateIndexFilesDu>,\n",
       " <Preferences:ButlerTaskGenerateMe>,\n",
       " <Preferences:GenerateBIFKeyframes:True>,\n",
       " <Preferences:GenerateBIFBehavior:never>,\n",
       " <Preferences:GenerateBIFFrameInte:2>,\n",
       " <Preferences:GenerateIntroMarkerB:asap>,\n",
       " <Preferences:GenerateChapterThumb:scheduled>,\n",
       " <Preferences:LoudnessAnalysisBeha:scheduled>,\n",
       " <Preferences:MusicAnalysisBehavio:scheduled>,\n",
       " <Preferences:LongRunningJobThread>,\n",
       " <Preferences:LoudnessAnalysisThre>,\n",
       " <Preferences:LoudnessReplayGainSt>,\n",
       " <Preferences:RadioTopTracksPerAlb:3>,\n",
       " <Preferences:RadioDaysSinceLastPl:2>,\n",
       " <Preferences:RadioDirectoryThresh:15>,\n",
       " <Preferences:RadioDirectoryLimit:50>,\n",
       " <Preferences:LocationVisibility:1>,\n",
       " <Preferences:CertificateVersion:3>,\n",
       " <Preferences:CertificateUUID:2069bd23763d4b129e9d>,\n",
       " <Preferences:enableLocalSecurity>,\n",
       " <Preferences:EyeQUser>,\n",
       " <Preferences:DvrShowUnsupportedDe>,\n",
       " <Preferences:DvrComskipRemoveInte:True>,\n",
       " <Preferences:DvrComskipKeepOrigin>,\n",
       " <Preferences:SubtitlesPersistIfAd>,\n",
       " <Preferences:DvrIncrementalEpgLoa>,\n",
       " <Preferences:EpgUseSelectedProvid>,\n",
       " <Preferences:MetadataUseDevProvid>,\n",
       " <Preferences:SyncMPRootDirectoryO>,\n",
       " <Preferences:MediaServerManagerAl>,\n",
       " <Preferences:MergedRecentlyAdded>]"
      ]
     },
     "execution_count": 12,
     "metadata": {},
     "output_type": "execute_result"
    }
   ],
   "source": [
    "plex.server.fetchItems('/:/prefs')"
   ]
  },
  {
   "cell_type": "code",
   "execution_count": 13,
   "metadata": {},
   "outputs": [
    {
     "data": {
      "text/plain": [
       "[<Movie:20059:Die-Lincoln-Verschwö>,\n",
       " <Movie:20062:Repo-Men>,\n",
       " <Movie:20489:The-Social-Network>,\n",
       " <Movie:19967:We-Want-Sex>]"
      ]
     },
     "execution_count": 13,
     "metadata": {},
     "output_type": "execute_result"
    }
   ],
   "source": [
    "plex.server.fetchItems('/library/sections/1/all?year=2010')"
   ]
  },
  {
   "cell_type": "code",
   "execution_count": 22,
   "metadata": {},
   "outputs": [],
   "source": [
    "m =movies.fetchItem(20557)\n",
    "#m.__dict__\n",
    "m.__dir__();"
   ]
  },
  {
   "cell_type": "code",
   "execution_count": 16,
   "metadata": {},
   "outputs": [
    {
     "data": {
      "text/plain": [
       "1"
      ]
     },
     "execution_count": 16,
     "metadata": {},
     "output_type": "execute_result"
    }
   ],
   "source": [
    "m.librarySectionID"
   ]
  },
  {
   "cell_type": "code",
   "execution_count": 17,
   "metadata": {},
   "outputs": [
    {
     "data": {
      "text/plain": [
       "0"
      ]
     },
     "execution_count": 17,
     "metadata": {},
     "output_type": "execute_result"
    }
   ],
   "source": [
    "m.viewCount"
   ]
  },
  {
   "cell_type": "code",
   "execution_count": 23,
   "metadata": {},
   "outputs": [],
   "source": [
    "#for m in movies.recentlyAdded():\n",
    "#    print(f\"{m.viewCount:>2d} {m.title:<20} {m.getStreamURL()}\")"
   ]
  },
  {
   "cell_type": "code",
   "execution_count": 33,
   "metadata": {},
   "outputs": [
    {
     "data": {
      "text/plain": [
       "['logs', 'databases', 'streaminglogs']"
      ]
     },
     "execution_count": 33,
     "metadata": {},
     "output_type": "execute_result"
    }
   ],
   "source": [
    "plex.server.diagnostics"
   ]
  },
  {
   "cell_type": "code",
   "execution_count": 34,
   "metadata": {},
   "outputs": [],
   "source": [
    "plex.server.__dir__();"
   ]
  },
  {
   "cell_type": "code",
   "execution_count": 38,
   "metadata": {},
   "outputs": [],
   "source": [
    "plex.server.library.sectionByID(1).__dir__();"
   ]
  },
  {
   "cell_type": "code",
   "execution_count": 43,
   "metadata": {},
   "outputs": [
    {
     "data": {
      "text/plain": [
       "['__repr__',\n",
       " '__hash__',\n",
       " '__call__',\n",
       " '__getattribute__',\n",
       " '__setattr__',\n",
       " '__delattr__',\n",
       " '__lt__',\n",
       " '__le__',\n",
       " '__eq__',\n",
       " '__ne__',\n",
       " '__gt__',\n",
       " '__ge__',\n",
       " '__get__',\n",
       " '__new__',\n",
       " '__reduce__',\n",
       " '__func__',\n",
       " '__self__',\n",
       " '__doc__',\n",
       " '__str__',\n",
       " '__init__',\n",
       " '__reduce_ex__',\n",
       " '__subclasshook__',\n",
       " '__init_subclass__',\n",
       " '__format__',\n",
       " '__sizeof__',\n",
       " '__dir__',\n",
       " '__class__']"
      ]
     },
     "execution_count": 43,
     "metadata": {},
     "output_type": "execute_result"
    }
   ],
   "source": [
    "plex.server.clients.__dir__()"
   ]
  }
 ],
 "metadata": {
  "interpreter": {
   "hash": "f7e16bdbe402160f51d17b35b18b904908b2e426ec012a3470e300a62cfa2333"
  },
  "kernelspec": {
   "display_name": "Python 3.9.2 32-bit ('venv': venv)",
   "language": "python",
   "name": "python3"
  },
  "language_info": {
   "codemirror_mode": {
    "name": "ipython",
    "version": 3
   },
   "file_extension": ".py",
   "mimetype": "text/x-python",
   "name": "python",
   "nbconvert_exporter": "python",
   "pygments_lexer": "ipython3",
   "version": "3.9.2"
  },
  "orig_nbformat": 4
 },
 "nbformat": 4,
 "nbformat_minor": 2
}
